{
 "cells": [
  {
   "cell_type": "markdown",
   "metadata": {},
   "source": [
    "# Cifrado César\n",
    "Este notebook contiene funciones para cifrar y descifrar mensajes utilizando el cifrado César, así como ejemplos de uso."
   ]
  },
  {
   "cell_type": "code",
   "execution_count": 4,
   "metadata": {},
   "outputs": [],
   "source": [
    "def cifrado_cesar(mensaje, desplazamiento):\n",
    "    alfabeto = 'abcdefghijklmnñopqrstuvwxyz, \\n'\n",
    "    cifrado = ''\n",
    "    for letra in mensaje:\n",
    "        if letra in alfabeto:\n",
    "            cifrado += alfabeto[(alfabeto.index(letra) + desplazamiento) % len(alfabeto)]\n",
    "        else:\n",
    "            cifrado += letra\n",
    "    return cifrado\n",
    "\n",
    "def descifrado_cesar(mensaje, desplazamiento):\n",
    "    alfabeto = 'abcdefghijklmnñopqrstuvwxyz, \\n'\n",
    "    descifrado = ''\n",
    "    for letra in mensaje:\n",
    "        if letra in alfabeto:\n",
    "            descifrado += alfabeto[(alfabeto.index(letra) - desplazamiento) % len(alfabeto)]\n",
    "        else:\n",
    "            descifrado += letra\n",
    "    return descifrado"
   ]
  },
  {
   "cell_type": "markdown",
   "metadata": {},
   "source": [
    "## Ejemplo de uso interactivo"
   ]
  },
  {
   "cell_type": "code",
   "execution_count": 3,
   "metadata": {},
   "outputs": [
    {
     "ename": "ModuleNotFoundError",
     "evalue": "No module named 'ipywidgets'",
     "output_type": "error",
     "traceback": [
      "\u001b[1;31m---------------------------------------------------------------------------\u001b[0m",
      "\u001b[1;31mModuleNotFoundError\u001b[0m                       Traceback (most recent call last)",
      "Cell \u001b[1;32mIn[3], line 2\u001b[0m\n\u001b[0;32m      1\u001b[0m \u001b[38;5;28;01mfrom\u001b[39;00m \u001b[38;5;21;01mIPython\u001b[39;00m\u001b[38;5;21;01m.\u001b[39;00m\u001b[38;5;21;01mdisplay\u001b[39;00m \u001b[38;5;28;01mimport\u001b[39;00m display\n\u001b[1;32m----> 2\u001b[0m \u001b[38;5;28;01mimport\u001b[39;00m \u001b[38;5;21;01mipywidgets\u001b[39;00m \u001b[38;5;28;01mas\u001b[39;00m \u001b[38;5;21;01mwidgets\u001b[39;00m\n\u001b[0;32m      4\u001b[0m \u001b[38;5;28;01mdef\u001b[39;00m \u001b[38;5;21minteractivo\u001b[39m():\n\u001b[0;32m      5\u001b[0m     opcion \u001b[38;5;241m=\u001b[39m widgets\u001b[38;5;241m.\u001b[39mRadioButtons(\n\u001b[0;32m      6\u001b[0m         options\u001b[38;5;241m=\u001b[39m[\u001b[38;5;124m'\u001b[39m\u001b[38;5;124mCifrar\u001b[39m\u001b[38;5;124m'\u001b[39m, \u001b[38;5;124m'\u001b[39m\u001b[38;5;124mDescifrar\u001b[39m\u001b[38;5;124m'\u001b[39m],\n\u001b[0;32m      7\u001b[0m         description\u001b[38;5;241m=\u001b[39m\u001b[38;5;124m'\u001b[39m\u001b[38;5;124mOpción:\u001b[39m\u001b[38;5;124m'\u001b[39m,\n\u001b[0;32m      8\u001b[0m         disabled\u001b[38;5;241m=\u001b[39m\u001b[38;5;28;01mFalse\u001b[39;00m\n\u001b[0;32m      9\u001b[0m     )\n",
      "\u001b[1;31mModuleNotFoundError\u001b[0m: No module named 'ipywidgets'"
     ]
    }
   ],
   "source": [
    "from IPython.display import display\n",
    "import ipywidgets as widgets\n",
    "\n",
    "def interactivo():\n",
    "    opcion = widgets.RadioButtons(\n",
    "        options=['Cifrar', 'Descifrar'],\n",
    "        description='Opción:',\n",
    "        disabled=False\n",
    "    )\n",
    "    display(opcion)\n",
    "    \n",
    "    origen = widgets.RadioButtons(\n",
    "        options=['Texto', 'Archivo'],\n",
    "        description='Origen:',\n",
    "        disabled=False\n",
    "    )\n",
    "    display(origen)\n",
    "    \n",
    "    mensaje_input = widgets.Textarea(\n",
    "        value='',\n",
    "        placeholder='Ingresa el mensaje aquí...',\n",
    "        description='Mensaje:',\n",
    "        disabled=False\n",
    "    )\n",
    "    display(mensaje_input)\n",
    "    \n",
    "    desplazamiento_input = widgets.IntText(\n",
    "        value=3,\n",
    "        description='Desplazamiento:',\n",
    "        disabled=False\n",
    "    )\n",
    "    display(desplazamiento_input)\n",
    "    \n",
    "    archivo_entrada = widgets.Text(\n",
    "        value='',\n",
    "        placeholder='Nombre del archivo de entrada',\n",
    "        description='Archivo entrada:',\n",
    "        disabled=False\n",
    "    )\n",
    "    display(archivo_entrada)\n",
    "    \n",
    "    archivo_salida = widgets.Text(\n",
    "        value='',\n",
    "        placeholder='Nombre del archivo de salida',\n",
    "        description='Archivo salida:',\n",
    "        disabled=False\n",
    "    )\n",
    "    display(archivo_salida)\n",
    "    \n",
    "    output = widgets.Output()\n",
    "    display(output)\n",
    "    \n",
    "    def ejecutar(_):\n",
    "        with output:\n",
    "            output.clear_output()\n",
    "            opcion_seleccionada = opcion.value\n",
    "            origen_seleccionado = origen.value\n",
    "            mensaje = mensaje_input.value\n",
    "            desplazamiento = desplazamiento_input.value\n",
    "            archivo_ent = archivo_entrada.value\n",
    "            archivo_sal = archivo_salida.value\n",
    "            \n",
    "            if origen_seleccionado == 'Texto':\n",
    "                if opcion_seleccionada == 'Cifrar':\n",
    "                    resultado = cifrado_cesar(mensaje, desplazamiento)\n",
    "                else:\n",
    "                    resultado = descifrado_cesar(mensaje, desplazamiento)\n",
    "                print('Resultado:', resultado)\n",
    "            elif origen_seleccionado == 'Archivo':\n",
    "                try:\n",
    "                    with open(archivo_ent, 'r', encoding=\"utf-8\") as f:\n",
    "                        mensaje = f.read().lower()\n",
    "                    if opcion_seleccionada == 'Cifrar':\n",
    "                        resultado = cifrado_cesar(mensaje, desplazamiento)\n",
    "                    else:\n",
    "                        resultado = descifrado_cesar(mensaje, desplazamiento)\n",
    "                    with open(archivo_sal, 'w', encoding=\"utf-8\") as f:\n",
    "                        f.write(resultado)\n",
    "                    print('Resultado guardado en', archivo_sal)\n",
    "                except FileNotFoundError:\n",
    "                    print('El archivo no existe')\n",
    "            else:\n",
    "                print('Opción no válida')\n",
    "    \n",
    "    boton = widgets.Button(description='Ejecutar')\n",
    "    boton.on_click(ejecutar)\n",
    "    display(boton)\n",
    "\n",
    "interactivo()"
   ]
  }
 ],
 "metadata": {
  "kernelspec": {
   "display_name": "Python 3",
   "language": "python",
   "name": "python3"
  },
  "language_info": {
   "codemirror_mode": {
    "name": "ipython",
    "version": 3
   },
   "file_extension": ".py",
   "mimetype": "text/x-python",
   "name": "python",
   "nbconvert_exporter": "python",
   "pygments_lexer": "ipython3",
   "version": "3.12.4"
  }
 },
 "nbformat": 4,
 "nbformat_minor": 4
}
