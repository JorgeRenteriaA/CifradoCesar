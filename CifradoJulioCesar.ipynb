{
 "cells": [
  {
   "cell_type": "markdown",
   "metadata": {},
   "source": [
    "# Cifrado y Descifrado César\n",
    "\n",
    "Este notebook contiene implementaciones para cifrar y descifrar mensajes utilizando el cifrado César.\n",
    "\n",
    "## Definición de Funciones"
   ]
  },
  {
   "cell_type": "code",
   "execution_count": null,
   "metadata": {},
   "outputs": [],
   "source": [
    "def cifrado_cesar(mensaje, desplazamiento):\n",
    "    alfabeto = 'abcdefghijklmnñopqrstuvwxyz, \\n'\n",
    "    cifrado = ''\n",
    "    for letra in mensaje:\n",
    "        if letra in alfabeto:\n",
    "            cifrado += alfabeto[(alfabeto.index(letra) + desplazamiento) % len(alfabeto)]\n",
    "        else:\n",
    "            cifrado += letra\n",
    "    return cifrado\n",
    "\n",
    "def descifrado_cesar(mensaje, desplazamiento):\n",
    "    alfabeto = 'abcdefghijklmnñopqrstuvwxyz, \\n'\n",
    "    descifrado = ''\n",
    "    for letra in mensaje:\n",
    "        if letra in alfabeto:\n",
    "            descifrado += alfabeto[(alfabeto.index(letra) - desplazamiento) % len(alfabeto)]\n",
    "        else:\n",
    "            descifrado += letra\n",
    "    return descifrado"
   ]
  },
  {
   "cell_type": "markdown",
   "metadata": {},
   "source": [
    "## Ejecución del Programa\n",
    "\n",
    "Ejecuta las siguientes celdas para interactuar con el programa."
   ]
  },
  {
   "cell_type": "code",
   "execution_count": null,
   "metadata": {},
   "outputs": [],
   "source": [
    "def main():\n",
    "    while True:\n",
    "        opcion = input('¿Deseas cifrar o descifrar? (c/d): ')\n",
    "        if opcion == 'c':\n",
    "            origen = input('¿De dónde quieres obtener el mensaje? (t/a): ')\n",
    "            if origen == 't':\n",
    "                print('Ingresa una línea de texto (o presiona Enter para terminar):\\n')\n",
    "                mensaje = ''\n",
    "                while True:\n",
    "                    linea = input()\n",
    "                    if linea == '':\n",
    "                        break\n",
    "                    mensaje += linea + '\\n'\n",
    "                desplazamiento = int(input('Introduce el desplazamiento: '))\n",
    "                print('Mensaje cifrado:', cifrado_cesar(mensaje, desplazamiento))\n",
    "            elif origen == 'a':\n",
    "                archivo_entrada = input('Introduce el nombre del archivo de texto: ')\n",
    "                try:\n",
    "                    with open(archivo_entrada, 'r', encoding=\"utf-8\") as f:\n",
    "                        mensaje = f.read().lower()\n",
    "                    desplazamiento = int(input('Introduce el desplazamiento: '))\n",
    "                    archivo_salida = input('Introduce el nombre del archivo donde se guardará el resultado: ')\n",
    "                    with open(archivo_salida, 'w', encoding=\"utf-8\") as f:\n",
    "                        f.write(cifrado_cesar(mensaje, desplazamiento))\n",
    "                    print('Mensaje cifrado y guardado en', archivo_salida)\n",
    "                except FileNotFoundError:\n",
    "                    print('El archivo no existe')\n",
    "            else:\n",
    "                print('Opción no válida')\n",
    "        elif opcion == 'd':\n",
    "            origen = input('¿De dónde quieres obtener el mensaje? (t/a): ')\n",
    "            if origen == 't':\n",
    "                mensaje = ''\n",
    "                print('Ingresa una línea de texto (o presiona Enter para terminar):\\n')\n",
    "                while True:\n",
    "                    linea = input()\n",
    "                    if linea == '':\n",
    "                        break\n",
    "                    mensaje += linea + '\\n'\n",
    "                desplazamiento = int(input('Introduce el desplazamiento: '))\n",
    "                print('Mensaje cifrado:', descifrado_cesar(mensaje, desplazamiento))\n",
    "            elif origen == 'a':\n",
    "                archivo_entrada = input('Introduce el nombre del archivo de texto: ')\n",
    "                try:\n",
    "                    with open(archivo_entrada, 'r', encoding=\"utf-8\") as f:\n",
    "                        mensaje = f.read().lower()\n",
    "                    desplazamiento = int(input('Introduce el desplazamiento: '))\n",
    "                    archivo_salida = input('Introduce el nombre del archivo donde se guardará el resultado: ')\n",
    "                    with open(archivo_salida, 'w', encoding=\"utf-8\") as f:\n",
    "                        f.write(descifrado_cesar(mensaje, desplazamiento))\n",
    "                    print('Mensaje cifrado y guardado en', archivo_salida)\n",
    "                except FileNotFoundError:\n",
    "                    print('El archivo no existe')\n",
    "            else:\n",
    "                print('Opción no válida')\n",
    "        else:\n",
    "            print('Opción no válida')\n",
    "        reiniciar = input('¿Deseas cifrar o descifrar otro mensaje? (s/n): ')\n",
    "        if reiniciar.lower() != 's':\n",
    "            break\n",
    "\n",
    "if __name__ == \"__main__\":\n",
    "    main()"
   ]
  }
 ],
 "metadata": {
  "kernelspec": {
   "display_name": "Python 3",
   "language": "python",
   "name": "python3"
  },
  "language_info": {
   "codemirror_mode": {
    "name": "ipython",
    "version": 3
   },
   "file_extension": ".py",
   "mimetype": "text/x-python",
   "name": "python",
   "nbconvert_exporter": "python",
   "pygments_lexer": "ipython3",
   "version": "3.8.5"
  }
 },
 "nbformat": 4,
 "nbformat_minor": 5
}
