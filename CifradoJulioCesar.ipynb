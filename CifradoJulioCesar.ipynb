# Cifrado y Descifrado César

Este notebook contiene implementaciones para cifrar y descifrar mensajes utilizando el cifrado César.

## Definición de Funciones

def cifrado_cesar(mensaje, desplazamiento):
    alfabeto = 'abcdefghijklmnñopqrstuvwxyz, \n'
    cifrado = ''
    for letra in mensaje:
        if letra in alfabeto:
            cifrado += alfabeto[(alfabeto.index(letra) + desplazamiento) % len(alfabeto)]
        else:
            cifrado += letra
    return cifrado

def descifrado_cesar(mensaje, desplazamiento):
    alfabeto = 'abcdefghijklmnñopqrstuvwxyz, \n'
    descifrado = ''
    for letra in mensaje:
        if letra in alfabeto:
            descifrado += alfabeto[(alfabeto.index(letra) - desplazamiento) % len(alfabeto)]
        else:
            descifrado += letra
    return descifrado


## Ejecución del Programa

Ejecuta las siguientes celdas para interactuar con el programa.

def main():
    while True:
        opcion = input('¿Deseas cifrar o descifrar? (c/d): ')
        if opcion == 'c':
            origen = input('¿De dónde quieres obtener el mensaje? (t/a): ')
            if origen == 't':
                print('Ingresa una línea de texto (o presiona Enter para terminar):\n')
                mensaje = ''
                while True:
                    linea = input()
                    if linea == '':
                        break
                    mensaje += linea + '\n'
                desplazamiento = int(input('Introduce el desplazamiento: '))
                print('Mensaje cifrado:', cifrado_cesar(mensaje, desplazamiento))
            elif origen == 'a':
                archivo_entrada = input('Introduce el nombre del archivo de texto: ')
                try:
                    with open(archivo_entrada, 'r', encoding="utf-8") as f:
                        mensaje = f.read().lower()
                    desplazamiento = int(input('Introduce el desplazamiento: '))
                    archivo_salida = input('Introduce el nombre del archivo donde se guardará el resultado: ')
                    with open(archivo_salida, 'w', encoding="utf-8") as f:
                        f.write(cifrado_cesar(mensaje, desplazamiento))
                    print('Mensaje cifrado y guardado en', archivo_salida)
                except FileNotFoundError:
                    print('El archivo no existe')
            else:
                print('Opción no válida')
        elif opcion == 'd':
            origen = input('¿De dónde quieres obtener el mensaje? (t/a): ')
            if origen == 't':
                mensaje = ''
                print('Ingresa una línea de texto (o presiona Enter para terminar):\n')
                while True:
                    linea = input()
                    if linea == '':
                        break
                    mensaje += linea + '\n'
                desplazamiento = int(input('Introduce el desplazamiento: '))
                print('Mensaje cifrado:', descifrado_cesar(mensaje, desplazamiento))
            elif origen == 'a':
                archivo_entrada = input('Introduce el nombre del archivo de texto: ')
                try:
                    with open(archivo_entrada, 'r', encoding="utf-8") as f:
                        mensaje = f.read().lower()
                    desplazamiento = int(input('Introduce el desplazamiento: '))
                    archivo_salida = input('Introduce el nombre del archivo donde se guardará el resultado: ')
                    with open(archivo_salida, 'w', encoding="utf-8") as f:
                        f.write(descifrado_cesar(mensaje, desplazamiento))
                    print('Mensaje cifrado y guardado en', archivo_salida)
                except FileNotFoundError:
                    print('El archivo no existe')
            else:
                print('Opción no válida')
        else:
            print('Opción no válida')
        reiniciar = input('¿Deseas cifrar o descifrar otro mensaje? (s/n): ')
        if reiniciar.lower() != 's':
            break

if __name__ == "__main__":
    main()
